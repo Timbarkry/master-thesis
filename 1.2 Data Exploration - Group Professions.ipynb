{
 "cells": [
  {
   "cell_type": "code",
   "execution_count": 1,
   "metadata": {},
   "outputs": [],
   "source": [
    "import pandas as pd"
   ]
  },
  {
   "cell_type": "markdown",
   "metadata": {},
   "source": [
    "We group professions in 7 different groups as below:"
   ]
  },
  {
   "cell_type": "code",
   "execution_count": 2,
   "metadata": {},
   "outputs": [],
   "source": [
    "wirtschaft = [\"versicherungsdirektor\", \"wirtschaftsberater\", \"verwaltungswissenschaftlerin\", \"spediteur\", \"bankfachwirtin\", \"verwaltungsfachwirtin\", \"einzelhändlerin\", \"dipl.-wirtschaftler\", \"kaufmännischer\", \"hoteliere\", \"diplom-ökonom\", \"ing.-ökonomin\", \"fabrikdirektor\", \"bankier\", \"wirtschaftssachverständiger\", \"finanzbeamtin\", \"wirtschaftler\", \"handelsfachwirtin\", \"bankfachwirt\", \"unternehmens-analyst\", \"ökonom\", \"finanzwirt\", \"finanzfachwirt\", \"diplom-ökonomin\", \"wirtschaftswissenschaftler\", \"verwaltungswirt\", \"finanzwirtin,finanzanlagenfachmann\", \"wirtschaftsprüfer\", \"buchhalter\", \"sekretärin\", \"selbständig\", \"kauffrau\", \"buchhändler\", \"bankkauffrau\", \"steuerberater\", \"unternehmensberater\", \"dipl.-verwaltungswirt\", \"betriebswirt\", \"dipl.-ökonom\", \"volkswirt\", \"angestellte\", \"industriekauffrau\", \"prokurist\", \"dipl.-betriebswirt\", \"kaufmann\", \"dipl.-volkswirt\", \"fabrikant\", \"geschäftsführer\", \"kaufmännischer angestellter\", \"unternehmer\"]"
   ]
  },
  {
   "cell_type": "code",
   "execution_count": 3,
   "metadata": {},
   "outputs": [],
   "source": [
    "recht = [\"rechtswissenschaftler\", \"professor für staatsrecht\", \"rechtsreferendar\", \"syndikus\", \"richter\", \"anwalt\", \"rechtsanwältin\", \"notar\", \"jurist\"]"
   ]
  },
  {
   "cell_type": "code",
   "execution_count": 4,
   "metadata": {},
   "outputs": [],
   "source": [
    "naturwissenschaft = [\"chemielaborant\", \"it-berater\", \"internist\", \"chemie\", \"statistiker\", \"software-entwickler\", \"physikalisch-technische assistentin\", \"biologie\", \"biotechnologin\", \"chemiefacharbeiterin\", \"geologin\", \"geograph\", \"chemielaborantin\", \"geologe\", \"krankenschwester\", \"informatiker\", \"biologin\", \"biologe\", \"architekt\", \"mathematiker\", \"apotheker\", \"physiker\", \"chemiker\", \"ärztin\", \"arzt\", \"dipl.-ingenieur\", \"ingenieur\", \"ing.\"]"
   ]
  },
  {
   "cell_type": "code",
   "execution_count": 5,
   "metadata": {},
   "outputs": [],
   "source": [
    "gesellschaftswissenschaft = [\"schulleiter\", \"oberschulrat\", \"philosophin\", \"realschuldirektor\", \"pädagoge\", \"erzieher\", \"sozialpädagoge\", \"gymnasialdirektor\", \"philologe\", \"kommunikationswissenschaftler\", \"hauptschuldirektor\", \"sozialökonom\", \"bibliothekarin\", \"sozialwirt\", \"realschulrektor\", \"politikwissenschaftliche doktorandin\", \"kulturwissenschaftler\", \"islamwissenschaftlerin\", \"medienwissenschaftlerin\", \"soziologin\", \"erziehungswissenschaftlerin\", \"literaturwissenschaftler\", \"politolog\", \"kulturwissenschaftlerin\", \"studienrätin\", \"sozialarbeiter\", \"erzieherin\", \"soziologe\", \"politologe\", \"sozialwissenschaftler\", \"historiker\", \"pädagogin\", \"studienrat\", \"studiendirektor\", \"politikwissenschaftler\", \"lehrer\"]"
   ]
  },
  {
   "cell_type": "code",
   "execution_count": 6,
   "metadata": {},
   "outputs": [],
   "source": [
    "agrar = [\"agrarwissenschaftler\", \"winzer\", \"forstmeister\", \"agrarwissenschaftlerin\", \"landwirt\", \"bauer\", \"bäuerin\", \"forstwirt\"]"
   ]
  },
  {
   "cell_type": "code",
   "execution_count": 7,
   "metadata": {},
   "outputs": [],
   "source": [
    "journalismus = [\"auslandskorrespondentin\", \"verlagsleiter\", \"autor\", \"publizist\", \"schriftsetzer\", \"schriftsteller\", \"verleger\", \"journalist\", \"redakteur\"]"
   ]
  },
  {
   "cell_type": "code",
   "execution_count": 8,
   "metadata": {},
   "outputs": [],
   "source": [
    "handwerk = [\"gärtnermeister\", \"buchdrucker\", \"glasermeister\", \"baumeister\", \"schweißer\", \"karosseriebaumeister\", \"tapeziermeister\", \"elektriker\", \"glasschmelzer\", \"fliesenleger\", \"elektroschweißer\", \"klempner\", \"werkzeugdreher\", \"elektromonteur\", \"hochdruckschweißer\", \"gärtner\", \"modellschreiner\", \"optiker\", \"konditormeister\", \"druckermeister\", \"müllermeister\", \"bäcker\", \"schreiner\", \"arbeiter\", \"fotografenmeister\", \"schmiedemeister\", \"installateur\", \"handwerksmeister\", \"goldschmied\", \"zimmermann\", \"zimmermeister\", \"feinoptiker\", \"zerspanungsfacharbeiter\", \"elektrotechnikerin\", \"friseurmeister\", \"fleischermeister\", \"maurer\", \"werkmeister\", \"lokomotivführer\", \"mechaniker\", \"schuhmachermeister\", \"elektromeister\", \"maschinenbaumeister\", \"schreinermeister\", \"malermeister\", \"werkzeugmacher\", \"bergmann\", \"bäckermeister\", \"schlosser\"]"
   ]
  },
  {
   "cell_type": "code",
   "execution_count": 9,
   "metadata": {},
   "outputs": [],
   "source": [
    "professions = {\n",
    "    'Economy': wirtschaft,\n",
    "    'Law': recht,\n",
    "    'Natural Science': naturwissenschaft,\n",
    "    'Social Science': gesellschaftswissenschaft,\n",
    "    'Agriculture': agrar,\n",
    "    'Journalism': journalismus,\n",
    "    'Craft': handwerk,\n",
    "}"
   ]
  },
  {
   "cell_type": "code",
   "execution_count": 10,
   "metadata": {},
   "outputs": [],
   "source": [
    "politicians = pd.read_feather('politicians.feather')"
   ]
  },
  {
   "cell_type": "markdown",
   "metadata": {},
   "source": [
    "Here, we get profession from politicians table, search it on the groups if it is not matched then we set it to 'No Match', and if it is matched two more than one group then it is set to 'Ambiguous'."
   ]
  },
  {
   "cell_type": "code",
   "execution_count": 11,
   "metadata": {},
   "outputs": [],
   "source": [
    "def get_profession(unclean_profession):\n",
    "    if unclean_profession is None: return 'None'\n",
    "    cleaned_profession = set()\n",
    "    for profession in professions:\n",
    "        for p in professions[profession]:\n",
    "            if p in unclean_profession.lower():\n",
    "                cleaned_profession.add(profession)\n",
    "    if len(cleaned_profession) == 0:\n",
    "        return 'No Match'\n",
    "    if len(cleaned_profession) == 1:\n",
    "        return list(cleaned_profession)[0]\n",
    "    return 'Ambiguous'"
   ]
  },
  {
   "cell_type": "code",
   "execution_count": 12,
   "metadata": {},
   "outputs": [],
   "source": [
    "politicians['cleanedProfession'] = politicians.apply(lambda x: get_profession(x.profession), axis=1)"
   ]
  },
  {
   "cell_type": "code",
   "execution_count": 13,
   "metadata": {},
   "outputs": [
    {
     "data": {
      "text/html": [
       "<div>\n",
       "<style scoped>\n",
       "    .dataframe tbody tr th:only-of-type {\n",
       "        vertical-align: middle;\n",
       "    }\n",
       "\n",
       "    .dataframe tbody tr th {\n",
       "        vertical-align: top;\n",
       "    }\n",
       "\n",
       "    .dataframe thead th {\n",
       "        text-align: right;\n",
       "    }\n",
       "</style>\n",
       "<table border=\"1\" class=\"dataframe\">\n",
       "  <thead>\n",
       "    <tr style=\"text-align: right;\">\n",
       "      <th></th>\n",
       "      <th>id</th>\n",
       "      <th>firstName</th>\n",
       "      <th>lastName</th>\n",
       "      <th>birthPlace</th>\n",
       "      <th>birthCountry</th>\n",
       "      <th>birthDate</th>\n",
       "      <th>deathDate</th>\n",
       "      <th>gender</th>\n",
       "      <th>profession</th>\n",
       "      <th>aristocracy</th>\n",
       "      <th>academicTitle</th>\n",
       "      <th>cleanedProfession</th>\n",
       "    </tr>\n",
       "  </thead>\n",
       "  <tbody>\n",
       "    <tr>\n",
       "      <th>0</th>\n",
       "      <td>11000001</td>\n",
       "      <td>Manfred</td>\n",
       "      <td>Abelein</td>\n",
       "      <td>Stuttgart</td>\n",
       "      <td>Deutschland</td>\n",
       "      <td>1930-10-20</td>\n",
       "      <td>2008-01-17</td>\n",
       "      <td>männlich</td>\n",
       "      <td>Rechtsanwalt, Wirtschaftsprüfer, Universitätsp...</td>\n",
       "      <td>None</td>\n",
       "      <td>Prof. Dr.</td>\n",
       "      <td>Ambiguous</td>\n",
       "    </tr>\n",
       "    <tr>\n",
       "      <th>1</th>\n",
       "      <td>11000002</td>\n",
       "      <td>Ernst</td>\n",
       "      <td>Achenbach</td>\n",
       "      <td>Siegen</td>\n",
       "      <td>Deutschland</td>\n",
       "      <td>1909-04-09</td>\n",
       "      <td>1991-12-02</td>\n",
       "      <td>männlich</td>\n",
       "      <td>Rechtsanwalt und Notar</td>\n",
       "      <td>None</td>\n",
       "      <td>Dr.</td>\n",
       "      <td>Law</td>\n",
       "    </tr>\n",
       "    <tr>\n",
       "      <th>2</th>\n",
       "      <td>11000003</td>\n",
       "      <td>Annemarie</td>\n",
       "      <td>Ackermann</td>\n",
       "      <td>Parabutsch</td>\n",
       "      <td>Jugoslawien</td>\n",
       "      <td>1913-05-26</td>\n",
       "      <td>1994-02-18</td>\n",
       "      <td>weiblich</td>\n",
       "      <td>Hilfsreferentin</td>\n",
       "      <td>None</td>\n",
       "      <td>None</td>\n",
       "      <td>No Match</td>\n",
       "    </tr>\n",
       "    <tr>\n",
       "      <th>3</th>\n",
       "      <td>11000004</td>\n",
       "      <td>Else</td>\n",
       "      <td>Ackermann</td>\n",
       "      <td>Berlin</td>\n",
       "      <td>Deutschland</td>\n",
       "      <td>1933-11-06</td>\n",
       "      <td>2019-09-14</td>\n",
       "      <td>weiblich</td>\n",
       "      <td>Ärztin</td>\n",
       "      <td>None</td>\n",
       "      <td>Dr.</td>\n",
       "      <td>Natural Science</td>\n",
       "    </tr>\n",
       "    <tr>\n",
       "      <th>4</th>\n",
       "      <td>11000005</td>\n",
       "      <td>Ulrich</td>\n",
       "      <td>Adam</td>\n",
       "      <td>Teterow, Kr. Teterow, Bezirk Neubrandenburg</td>\n",
       "      <td>Deutschland</td>\n",
       "      <td>1950-06-09</td>\n",
       "      <td>None</td>\n",
       "      <td>männlich</td>\n",
       "      <td>Mathematiker, Geschäftsführer</td>\n",
       "      <td>None</td>\n",
       "      <td>None</td>\n",
       "      <td>Ambiguous</td>\n",
       "    </tr>\n",
       "    <tr>\n",
       "      <th>...</th>\n",
       "      <td>...</td>\n",
       "      <td>...</td>\n",
       "      <td>...</td>\n",
       "      <td>...</td>\n",
       "      <td>...</td>\n",
       "      <td>...</td>\n",
       "      <td>...</td>\n",
       "      <td>...</td>\n",
       "      <td>...</td>\n",
       "      <td>...</td>\n",
       "      <td>...</td>\n",
       "      <td>...</td>\n",
       "    </tr>\n",
       "    <tr>\n",
       "      <th>4097</th>\n",
       "      <td>11004971</td>\n",
       "      <td>Manuela</td>\n",
       "      <td>Schwesig</td>\n",
       "      <td>None</td>\n",
       "      <td>None</td>\n",
       "      <td>None</td>\n",
       "      <td>None</td>\n",
       "      <td>None</td>\n",
       "      <td>None</td>\n",
       "      <td>None</td>\n",
       "      <td>None</td>\n",
       "      <td>None</td>\n",
       "    </tr>\n",
       "    <tr>\n",
       "      <th>4098</th>\n",
       "      <td>11004972</td>\n",
       "      <td>Manfred</td>\n",
       "      <td>Stolpe</td>\n",
       "      <td>None</td>\n",
       "      <td>None</td>\n",
       "      <td>None</td>\n",
       "      <td>None</td>\n",
       "      <td>None</td>\n",
       "      <td>None</td>\n",
       "      <td>None</td>\n",
       "      <td>None</td>\n",
       "      <td>None</td>\n",
       "    </tr>\n",
       "    <tr>\n",
       "      <th>4099</th>\n",
       "      <td>11004973</td>\n",
       "      <td>Johanna</td>\n",
       "      <td>Wanka</td>\n",
       "      <td>None</td>\n",
       "      <td>None</td>\n",
       "      <td>None</td>\n",
       "      <td>None</td>\n",
       "      <td>None</td>\n",
       "      <td>None</td>\n",
       "      <td>None</td>\n",
       "      <td>None</td>\n",
       "      <td>None</td>\n",
       "    </tr>\n",
       "    <tr>\n",
       "      <th>4100</th>\n",
       "      <td>11004974</td>\n",
       "      <td>Ludger</td>\n",
       "      <td>Westrick</td>\n",
       "      <td>None</td>\n",
       "      <td>None</td>\n",
       "      <td>None</td>\n",
       "      <td>None</td>\n",
       "      <td>None</td>\n",
       "      <td>None</td>\n",
       "      <td>None</td>\n",
       "      <td>None</td>\n",
       "      <td>None</td>\n",
       "    </tr>\n",
       "    <tr>\n",
       "      <th>4101</th>\n",
       "      <td>-1</td>\n",
       "      <td>Not found</td>\n",
       "      <td></td>\n",
       "      <td>None</td>\n",
       "      <td>None</td>\n",
       "      <td>None</td>\n",
       "      <td>None</td>\n",
       "      <td>None</td>\n",
       "      <td>None</td>\n",
       "      <td>None</td>\n",
       "      <td>None</td>\n",
       "      <td>None</td>\n",
       "    </tr>\n",
       "  </tbody>\n",
       "</table>\n",
       "<p>4102 rows × 12 columns</p>\n",
       "</div>"
      ],
      "text/plain": [
       "            id  firstName   lastName  \\\n",
       "0     11000001    Manfred    Abelein   \n",
       "1     11000002      Ernst  Achenbach   \n",
       "2     11000003  Annemarie  Ackermann   \n",
       "3     11000004       Else  Ackermann   \n",
       "4     11000005     Ulrich       Adam   \n",
       "...        ...        ...        ...   \n",
       "4097  11004971    Manuela   Schwesig   \n",
       "4098  11004972    Manfred     Stolpe   \n",
       "4099  11004973    Johanna      Wanka   \n",
       "4100  11004974     Ludger   Westrick   \n",
       "4101        -1  Not found              \n",
       "\n",
       "                                       birthPlace birthCountry   birthDate  \\\n",
       "0                                       Stuttgart  Deutschland  1930-10-20   \n",
       "1                                          Siegen  Deutschland  1909-04-09   \n",
       "2                                      Parabutsch  Jugoslawien  1913-05-26   \n",
       "3                                          Berlin  Deutschland  1933-11-06   \n",
       "4     Teterow, Kr. Teterow, Bezirk Neubrandenburg  Deutschland  1950-06-09   \n",
       "...                                           ...          ...         ...   \n",
       "4097                                         None         None        None   \n",
       "4098                                         None         None        None   \n",
       "4099                                         None         None        None   \n",
       "4100                                         None         None        None   \n",
       "4101                                         None         None        None   \n",
       "\n",
       "       deathDate    gender                                         profession  \\\n",
       "0     2008-01-17  männlich  Rechtsanwalt, Wirtschaftsprüfer, Universitätsp...   \n",
       "1     1991-12-02  männlich                             Rechtsanwalt und Notar   \n",
       "2     1994-02-18  weiblich                                    Hilfsreferentin   \n",
       "3     2019-09-14  weiblich                                             Ärztin   \n",
       "4           None  männlich                      Mathematiker, Geschäftsführer   \n",
       "...          ...       ...                                                ...   \n",
       "4097        None      None                                               None   \n",
       "4098        None      None                                               None   \n",
       "4099        None      None                                               None   \n",
       "4100        None      None                                               None   \n",
       "4101        None      None                                               None   \n",
       "\n",
       "     aristocracy academicTitle cleanedProfession  \n",
       "0           None     Prof. Dr.         Ambiguous  \n",
       "1           None           Dr.               Law  \n",
       "2           None          None          No Match  \n",
       "3           None           Dr.   Natural Science  \n",
       "4           None          None         Ambiguous  \n",
       "...          ...           ...               ...  \n",
       "4097        None          None              None  \n",
       "4098        None          None              None  \n",
       "4099        None          None              None  \n",
       "4100        None          None              None  \n",
       "4101        None          None              None  \n",
       "\n",
       "[4102 rows x 12 columns]"
      ]
     },
     "execution_count": 13,
     "metadata": {},
     "output_type": "execute_result"
    }
   ],
   "source": [
    "politicians"
   ]
  },
  {
   "cell_type": "markdown",
   "metadata": {},
   "source": [
    "One we set 'cleanedProfession' in politicians table, we save it to be used in next step."
   ]
  },
  {
   "cell_type": "code",
   "execution_count": 14,
   "metadata": {},
   "outputs": [],
   "source": [
    "politicians.to_feather('politicians_cleaned_eng.feather')"
   ]
  },
  {
   "cell_type": "markdown",
   "metadata": {},
   "source": [
    "Let's see how many politicians belong to each of the profession group."
   ]
  },
  {
   "cell_type": "code",
   "execution_count": 15,
   "metadata": {},
   "outputs": [
    {
     "data": {
      "text/plain": [
       "No Match           960\n",
       "Economy            938\n",
       "Law                547\n",
       "Social Science     438\n",
       "Natural Science    403\n",
       "Ambiguous          268\n",
       "Agriculture        193\n",
       "Craft              179\n",
       "Journalism         160\n",
       "None                16\n",
       "Name: cleanedProfession, dtype: int64"
      ]
     },
     "execution_count": 15,
     "metadata": {},
     "output_type": "execute_result"
    }
   ],
   "source": [
    "politicians.cleanedProfession.value_counts(dropna=False)"
   ]
  }
 ],
 "metadata": {
  "kernelspec": {
   "display_name": "Python 3",
   "language": "python",
   "name": "python3"
  },
  "language_info": {
   "codemirror_mode": {
    "name": "ipython",
    "version": 3
   },
   "file_extension": ".py",
   "mimetype": "text/x-python",
   "name": "python",
   "nbconvert_exporter": "python",
   "pygments_lexer": "ipython3",
   "version": "3.8.5"
  }
 },
 "nbformat": 4,
 "nbformat_minor": 4
}
