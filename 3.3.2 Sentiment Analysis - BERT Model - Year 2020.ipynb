{
 "cells": [
  {
   "cell_type": "markdown",
   "metadata": {},
   "source": [
    "Here we repeat everything we did in previous step (for year 2019), by changing the speeches to speeches of year 2020."
   ]
  },
  {
   "cell_type": "code",
   "execution_count": 1,
   "metadata": {},
   "outputs": [],
   "source": [
    "import numpy as np\n",
    "import pandas as pd\n",
    "import seaborn as sns\n",
    "import matplotlib.pyplot as plt\n",
    "from collections import Counter\n",
    "from datetime import date, datetime\n",
    "from model import SentimentModel\n",
    "pd.set_option('mode.chained_assignment', None)"
   ]
  },
  {
   "cell_type": "code",
   "execution_count": 2,
   "metadata": {},
   "outputs": [
    {
     "data": {
      "text/plain": [
       "(18012, 12)"
      ]
     },
     "execution_count": 2,
     "metadata": {},
     "output_type": "execute_result"
    }
   ],
   "source": [
    "speeches = pd.read_feather('speeches_2020.feather')\n",
    "speeches.shape"
   ]
  },
  {
   "cell_type": "code",
   "execution_count": 3,
   "metadata": {},
   "outputs": [],
   "source": [
    "technologie = ['IT', 'Innovation', 'Technologisch', 'Information',\n",
    "               'Technik', 'Technologische', 'Medizintechnik', 'Technologie']\n",
    "datenschutz = ['Datenschutz', 'Datensicherheit', 'Transparente', 'Transparenz', 'Anonymität', 'Privatsphäre']\n",
    "digitalisierung = ['Digitalisierung', 'Automatisierung', 'App ', 'Vernetzung', 'Internet',\n",
    "                   'Telekommunikation', 'Software', 'Hardware', 'Computer', 'Handy']\n",
    "\n",
    "senioren = ['Senioren', 'Erwachsene', 'ältere Menschen', 'Familienmitglieder']\n",
    "rente = ['Rente', 'Rentner', 'Rentnerin', 'Altersvorsorge', 'Elterngeld']\n",
    "pflegeheim = ['Pflegeheim', 'Altenheim', 'Pfleger', 'Altenpflege', 'Pflege']\n",
    "\n",
    "gesundheit = ['Gesundheitswesen', 'Ernährung', 'Lebensqualität', 'Lebenserwartung', 'Gesundheit']\n",
    "krankheit = ['Erkrankung', 'Nebenwirkung', 'Infektion', 'Krank', 'Krankheit']\n",
    "medikament = ['Medikament', 'Arzneimittel', 'Patient', 'Behandlung', 'Pill', 'Antibiotika', 'Impfstoffe']\n",
    "krankenhaus = ['Krankenhaus', 'Klinik', 'Krankenschwester', 'Krankenpfleger', 'Arzt']"
   ]
  },
  {
   "cell_type": "code",
   "execution_count": 4,
   "metadata": {},
   "outputs": [],
   "source": [
    "keywords_tech = technologie + datenschutz + digitalisierung\n",
    "\n",
    "keywords_aging = senioren + rente + pflegeheim\n",
    "\n",
    "keywords_health = gesundheit + krankenhaus + krankheit + medikament"
   ]
  },
  {
   "cell_type": "code",
   "execution_count": 5,
   "metadata": {},
   "outputs": [],
   "source": [
    "speeches_tech = speeches[speeches.speechContent.str.contains('|'.join(keywords_tech))]"
   ]
  },
  {
   "cell_type": "code",
   "execution_count": 6,
   "metadata": {},
   "outputs": [
    {
     "data": {
      "text/plain": [
       "(2012, 12)"
      ]
     },
     "execution_count": 6,
     "metadata": {},
     "output_type": "execute_result"
    }
   ],
   "source": [
    "speeches_tech.shape"
   ]
  },
  {
   "cell_type": "code",
   "execution_count": 7,
   "metadata": {},
   "outputs": [
    {
     "data": {
      "text/plain": [
       "(307, 12)"
      ]
     },
     "execution_count": 7,
     "metadata": {},
     "output_type": "execute_result"
    }
   ],
   "source": [
    "speeches_senioren = speeches_tech[speeches_tech.speechContent.str.contains('|'.join(keywords_aging))]\n",
    "speeches_senioren.shape"
   ]
  },
  {
   "cell_type": "code",
   "execution_count": 8,
   "metadata": {},
   "outputs": [
    {
     "data": {
      "text/plain": [
       "(581, 12)"
      ]
     },
     "execution_count": 8,
     "metadata": {},
     "output_type": "execute_result"
    }
   ],
   "source": [
    "speeches_health = speeches_tech[speeches_tech.speechContent.str.contains('|'.join(keywords_health))]\n",
    "speeches_health.shape"
   ]
  },
  {
   "cell_type": "code",
   "execution_count": 9,
   "metadata": {},
   "outputs": [],
   "source": [
    "model = SentimentModel(model_name = \"oliverguhr/german-sentiment-bert\")"
   ]
  },
  {
   "cell_type": "code",
   "execution_count": 10,
   "metadata": {},
   "outputs": [],
   "source": [
    "speeches_senioren['sentiment'] = ''\n",
    "for i, speech in speeches_senioren.iterrows():\n",
    "    speeches_senioren.at[i,'sentiment'] = model.predict_sentiment([speech.speechContent])[0]"
   ]
  },
  {
   "cell_type": "code",
   "execution_count": 11,
   "metadata": {},
   "outputs": [],
   "source": [
    "speeches_health['sentiment'] = ''\n",
    "for i, speech in speeches_health.iterrows():\n",
    "    speeches_health.at[i,'sentiment'] = model.predict_sentiment([speech.speechContent])[0]"
   ]
  },
  {
   "cell_type": "code",
   "execution_count": 12,
   "metadata": {},
   "outputs": [],
   "source": [
    "speeches_health.reset_index(inplace=True)\n",
    "speeches_senioren.reset_index(inplace=True)"
   ]
  },
  {
   "cell_type": "code",
   "execution_count": 13,
   "metadata": {},
   "outputs": [],
   "source": [
    "speeches_senioren.to_feather('speeches_2020_with_sentiments_senioren.feather')\n",
    "speeches_health.to_feather('speeches_2020_with_sentiments_health.feather')"
   ]
  }
 ],
 "metadata": {
  "kernelspec": {
   "display_name": "Python 3",
   "language": "python",
   "name": "python3"
  },
  "language_info": {
   "codemirror_mode": {
    "name": "ipython",
    "version": 3
   },
   "file_extension": ".py",
   "mimetype": "text/x-python",
   "name": "python",
   "nbconvert_exporter": "python",
   "pygments_lexer": "ipython3",
   "version": "3.8.5"
  }
 },
 "nbformat": 4,
 "nbformat_minor": 4
}
