{
 "cells": [
  {
   "cell_type": "code",
   "execution_count": 1,
   "metadata": {},
   "outputs": [],
   "source": [
    "import pandas as pd\n",
    "import seaborn as sns\n",
    "import matplotlib.pyplot as plt"
   ]
  },
  {
   "cell_type": "markdown",
   "metadata": {},
   "source": [
    "First we load the speeches of years 2019 and 2020, as we do visulalization for those years only."
   ]
  },
  {
   "cell_type": "code",
   "execution_count": 2,
   "metadata": {},
   "outputs": [],
   "source": [
    "speeches_2019 = pd.read_feather('speeches_2019.feather')\n",
    "speeches_2020 = pd.read_feather('speeches_2020.feather')"
   ]
  },
  {
   "cell_type": "markdown",
   "metadata": {},
   "source": [
    "Then, we used the similar keywords and then group them as below:"
   ]
  },
  {
   "cell_type": "code",
   "execution_count": 3,
   "metadata": {},
   "outputs": [],
   "source": [
    "# Dependent Keywords (Technology Related)\n",
    "technologie = ['Innovation', 'Information', 'IT', 'Technik', 'Technologie']\n",
    "datenschutz = ['Datenschutz', 'Datensicherheit', 'Transparenz', 'Anonymität', 'Privatsphäre']\n",
    "digitalisierung = ['Digitalisierung', 'Automatisierung', 'App ', 'Vernetzung', 'Internet',\n",
    "                   'Telekommunikation', 'Software', 'Hardware', 'Computer', 'Handy']\n",
    "\n",
    "# Independent Keywords (Aging Related)\n",
    "senioren = ['Senioren', 'Erwachsene', 'ältere Menschen', 'Familienmitglieder']\n",
    "rente = ['Rente', 'Rentner', 'Rentnerin', 'Altersvorsorge', 'Elterngeld']\n",
    "pflegeheim = ['Pflegeheim', 'Altenheim', 'Pfleger', 'Altenpflege', 'Pflege']\n",
    "\n",
    "# Independent Keywords (Health Related)\n",
    "gesundheit = ['Gesundheitswesen', 'Ernährung', 'Lebensqualität', 'Lebenserwartung', 'Gesundheit']\n",
    "krankheit = ['Erkrankung', 'Nebenwirkung', 'Infektion', 'Krank', 'Krankheit']\n",
    "medikament = ['Medikament', 'Arzneimittel', 'Patient', 'Behandlung', 'Pill', 'Antibiotika', 'Impfstoffe']\n",
    "krankenhaus = ['Krankenhaus', 'Klinik', 'Krankenschwester', 'Krankenpfleger', 'Arzt']"
   ]
  },
  {
   "cell_type": "markdown",
   "metadata": {},
   "source": [
    "We add all the independent keywords to filter the speeches containing them."
   ]
  },
  {
   "cell_type": "code",
   "execution_count": 4,
   "metadata": {},
   "outputs": [],
   "source": [
    "independent_keywords = senioren + rente + pflegeheim + gesundheit + krankenhaus + krankheit + medikament"
   ]
  },
  {
   "cell_type": "markdown",
   "metadata": {},
   "source": [
    "We perform the filtering for year 2019."
   ]
  },
  {
   "cell_type": "code",
   "execution_count": 5,
   "metadata": {},
   "outputs": [],
   "source": [
    "speeches_2019_new = speeches_2019[speeches_2019.speechContent.str.contains('|'.join(independent_keywords))]"
   ]
  },
  {
   "cell_type": "code",
   "execution_count": 6,
   "metadata": {},
   "outputs": [
    {
     "data": {
      "text/plain": [
       "(1755, 12)"
      ]
     },
     "execution_count": 6,
     "metadata": {},
     "output_type": "execute_result"
    }
   ],
   "source": [
    "speeches_2019_new.shape"
   ]
  },
  {
   "cell_type": "markdown",
   "metadata": {},
   "source": [
    "Similarly, we perform the filtering for year 2020 as well."
   ]
  },
  {
   "cell_type": "code",
   "execution_count": 7,
   "metadata": {},
   "outputs": [
    {
     "data": {
      "text/plain": [
       "(2469, 12)"
      ]
     },
     "execution_count": 7,
     "metadata": {},
     "output_type": "execute_result"
    }
   ],
   "source": [
    "speeches_2020_new = speeches_2020[speeches_2020.speechContent.str.contains('|'.join(independent_keywords))]\n",
    "speeches_2020_new.shape"
   ]
  },
  {
   "cell_type": "markdown",
   "metadata": {},
   "source": [
    "Then we two dictonaries each for independent and dependent keywords, as we employ the counting logic seperately for them."
   ]
  },
  {
   "cell_type": "code",
   "execution_count": 8,
   "metadata": {},
   "outputs": [],
   "source": [
    "keywords_independent = {\n",
    "    'Senioren': senioren,\n",
    "    'Pflegeheim': pflegeheim,\n",
    "    'Rente': rente,\n",
    "    'Gesundheit': gesundheit,\n",
    "    'Krankheit': krankheit,\n",
    "    'Krankenhaus': krankenhaus,\n",
    "    'Medikament': medikament,\n",
    "}\n",
    "keywords_dependent = {\n",
    "    'Technologie': technologie,\n",
    "    'Digitalisierung': digitalisierung,\n",
    "    'Datenschutz': datenschutz,\n",
    "}"
   ]
  },
  {
   "cell_type": "markdown",
   "metadata": {},
   "source": [
    "Then, we count how many speeches contain each of our keywords for visualization purpose, note that for dependent keywords we count on the filtered speeches on independent keywords only."
   ]
  },
  {
   "cell_type": "code",
   "execution_count": 14,
   "metadata": {},
   "outputs": [
    {
     "data": {
      "text/plain": [
       "[('Senioren', 196, '2019'),\n",
       " ('Senioren', 166, '2020'),\n",
       " ('Pflegeheim', 386, '2019'),\n",
       " ('Pflegeheim', 535, '2020'),\n",
       " ('Rente', 524, '2019'),\n",
       " ('Rente', 494, '2020'),\n",
       " ('Gesundheit', 616, '2019'),\n",
       " ('Gesundheit', 1241, '2020'),\n",
       " ('Krankheit', 544, '2019'),\n",
       " ('Krankheit', 1056, '2020'),\n",
       " ('Krankenhaus', 244, '2019'),\n",
       " ('Krankenhaus', 302, '2020'),\n",
       " ('Medikament', 346, '2019'),\n",
       " ('Medikament', 497, '2020'),\n",
       " ('Technologie', 307, '2019'),\n",
       " ('Technologie', 374, '2020'),\n",
       " ('Digitalisierung', 292, '2019'),\n",
       " ('Digitalisierung', 422, '2020'),\n",
       " ('Datenschutz', 116, '2019'),\n",
       " ('Datenschutz', 135, '2020')]"
      ]
     },
     "execution_count": 14,
     "metadata": {},
     "output_type": "execute_result"
    }
   ],
   "source": [
    "keywords_count = []\n",
    "for keyword in keywords_independent:\n",
    "    count = {\n",
    "        '2019': len(speeches_2019[speeches_2019.speechContent.str.contains('|'.join(keywords_independent[keyword]))]),\n",
    "        '2020': len(speeches_2020[speeches_2020.speechContent.str.contains('|'.join(keywords_independent[keyword]))]),\n",
    "    }\n",
    "    keywords_count.append((keyword, count['2019'], '2019'))\n",
    "    keywords_count.append((keyword, count['2020'], '2020'))\n",
    "    \n",
    "for keyword in keywords_dependent:\n",
    "    count = {\n",
    "        '2019': len(speeches_2019_new[speeches_2019_new.speechContent.str.contains('|'.join(keywords_dependent[keyword]))]),\n",
    "        '2020': len(speeches_2020_new[speeches_2020_new.speechContent.str.contains('|'.join(keywords_dependent[keyword]))]),\n",
    "    }\n",
    "    keywords_count.append((keyword, count['2019'], '2019'))\n",
    "    keywords_count.append((keyword, count['2020'], '2020'))\n",
    "# keywords_count = pd.DataFrame(keywords_count.items(), columns=['Keyword', 'Count'])\n",
    "keywords_count"
   ]
  },
  {
   "cell_type": "code",
   "execution_count": 15,
   "metadata": {},
   "outputs": [],
   "source": [
    "keywords_count = pd.DataFrame(keywords_count, columns=['Keyword', 'Count', 'Years'])"
   ]
  },
  {
   "cell_type": "markdown",
   "metadata": {},
   "source": [
    "Finally, we plot the keywords counts for each year 2019 and 2020."
   ]
  },
  {
   "cell_type": "code",
   "execution_count": 27,
   "metadata": {},
   "outputs": [
    {
     "name": "stderr",
     "output_type": "stream",
     "text": [
      "The PostScript backend does not support transparency; partially transparent artists will be rendered opaque.\n",
      "The PostScript backend does not support transparency; partially transparent artists will be rendered opaque.\n"
     ]
    },
    {
     "data": {
      "image/png": "[encoded data removed]",
      "text/plain": [
       "<Figure size 720x360 with 1 Axes>"
      ]
     },
     "metadata": {},
     "output_type": "display_data"
    }
   ],
   "source": [
    "plt.figure(figsize=(10, 5))\n",
    "bar = sns.barplot(data=keywords_count, y='Count', x='Keyword', hue='Years')\n",
    "plt.xticks(rotation=70)\n",
    "plt.tight_layout()\n",
    "plt.ylabel('Number of speeches')\n",
    "plt.xlabel('Keyword Groups')\n",
    "plt.savefig('images/keywords.eps', bbox_inches='tight')"
   ]
  }
 ],
 "metadata": {
  "kernelspec": {
   "display_name": "Python 3",
   "language": "python",
   "name": "python3"
  },
  "language_info": {
   "codemirror_mode": {
    "name": "ipython",
    "version": 3
   },
   "file_extension": ".py",
   "mimetype": "text/x-python",
   "name": "python",
   "nbconvert_exporter": "python",
   "pygments_lexer": "ipython3",
   "version": "3.8.5"
  }
 },
 "nbformat": 4,
 "nbformat_minor": 4
}
