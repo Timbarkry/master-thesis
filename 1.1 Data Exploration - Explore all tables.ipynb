{
 "cells": [
  {
   "cell_type": "code",
   "execution_count": 1,
   "metadata": {},
   "outputs": [],
   "source": [
    "import pandas as pd\n",
    "from datetime import datetime, date"
   ]
  },
  {
   "cell_type": "markdown",
   "metadata": {},
   "source": [
    "We start with looking up the tables that we have: Factions, Contributions, Politicians, Speeches and so on."
   ]
  },
  {
   "cell_type": "code",
   "execution_count": 2,
   "metadata": {},
   "outputs": [
    {
     "data": {
      "text/html": [
       "<div>\n",
       "<style scoped>\n",
       "    .dataframe tbody tr th:only-of-type {\n",
       "        vertical-align: middle;\n",
       "    }\n",
       "\n",
       "    .dataframe tbody tr th {\n",
       "        vertical-align: top;\n",
       "    }\n",
       "\n",
       "    .dataframe thead th {\n",
       "        text-align: right;\n",
       "    }\n",
       "</style>\n",
       "<table border=\"1\" class=\"dataframe\">\n",
       "  <thead>\n",
       "    <tr style=\"text-align: right;\">\n",
       "      <th></th>\n",
       "      <th>id</th>\n",
       "      <th>abbreviation</th>\n",
       "      <th>fullName</th>\n",
       "    </tr>\n",
       "  </thead>\n",
       "  <tbody>\n",
       "    <tr>\n",
       "      <th>0</th>\n",
       "      <td>-1</td>\n",
       "      <td>not found</td>\n",
       "      <td>not found</td>\n",
       "    </tr>\n",
       "    <tr>\n",
       "      <th>1</th>\n",
       "      <td>0</td>\n",
       "      <td>AfD</td>\n",
       "      <td>Alternative für Deutschland</td>\n",
       "    </tr>\n",
       "    <tr>\n",
       "      <th>2</th>\n",
       "      <td>1</td>\n",
       "      <td>BHE</td>\n",
       "      <td>Block der Heimatvertriebenen und Entrechteten</td>\n",
       "    </tr>\n",
       "    <tr>\n",
       "      <th>3</th>\n",
       "      <td>2</td>\n",
       "      <td>BP</td>\n",
       "      <td>Bayernpartei</td>\n",
       "    </tr>\n",
       "    <tr>\n",
       "      <th>4</th>\n",
       "      <td>3</td>\n",
       "      <td>Grüne</td>\n",
       "      <td>Bündnis 90/Die Grünen</td>\n",
       "    </tr>\n",
       "  </tbody>\n",
       "</table>\n",
       "</div>"
      ],
      "text/plain": [
       "   id abbreviation                                       fullName\n",
       "0  -1    not found                                      not found\n",
       "1   0          AfD                    Alternative für Deutschland\n",
       "2   1          BHE  Block der Heimatvertriebenen und Entrechteten\n",
       "3   2           BP                                   Bayernpartei\n",
       "4   3        Grüne                          Bündnis 90/Die Grünen"
      ]
     },
     "execution_count": 2,
     "metadata": {},
     "output_type": "execute_result"
    }
   ],
   "source": [
    "factions = pd.read_feather('factions.feather')\n",
    "factions.head()"
   ]
  },
  {
   "cell_type": "code",
   "execution_count": 3,
   "metadata": {},
   "outputs": [
    {
     "data": {
      "text/plain": [
       "(28, 3)"
      ]
     },
     "execution_count": 3,
     "metadata": {},
     "output_type": "execute_result"
    }
   ],
   "source": [
    "factions.shape"
   ]
  },
  {
   "cell_type": "code",
   "execution_count": 4,
   "metadata": {},
   "outputs": [
    {
     "data": {
      "text/html": [
       "<div>\n",
       "<style scoped>\n",
       "    .dataframe tbody tr th:only-of-type {\n",
       "        vertical-align: middle;\n",
       "    }\n",
       "\n",
       "    .dataframe tbody tr th {\n",
       "        vertical-align: top;\n",
       "    }\n",
       "\n",
       "    .dataframe thead th {\n",
       "        text-align: right;\n",
       "    }\n",
       "</style>\n",
       "<table border=\"1\" class=\"dataframe\">\n",
       "  <thead>\n",
       "    <tr style=\"text-align: right;\">\n",
       "      <th></th>\n",
       "      <th>id</th>\n",
       "      <th>type</th>\n",
       "      <th>firstName</th>\n",
       "      <th>lastName</th>\n",
       "      <th>politicianId</th>\n",
       "      <th>content</th>\n",
       "      <th>speechId</th>\n",
       "      <th>textPosition</th>\n",
       "      <th>factionId</th>\n",
       "    </tr>\n",
       "  </thead>\n",
       "  <tbody>\n",
       "    <tr>\n",
       "      <th>0</th>\n",
       "      <td>0</td>\n",
       "      <td>Lachen</td>\n",
       "      <td></td>\n",
       "      <td></td>\n",
       "      <td>-1</td>\n",
       "      <td>links</td>\n",
       "      <td>6</td>\n",
       "      <td>7</td>\n",
       "      <td>-1</td>\n",
       "    </tr>\n",
       "    <tr>\n",
       "      <th>1</th>\n",
       "      <td>1</td>\n",
       "      <td>Personen-Einruf</td>\n",
       "      <td></td>\n",
       "      <td>hütter</td>\n",
       "      <td>11000979</td>\n",
       "      <td>Nein!</td>\n",
       "      <td>6</td>\n",
       "      <td>2</td>\n",
       "      <td>13</td>\n",
       "    </tr>\n",
       "    <tr>\n",
       "      <th>2</th>\n",
       "      <td>2</td>\n",
       "      <td>Zuruf</td>\n",
       "      <td></td>\n",
       "      <td></td>\n",
       "      <td>-1</td>\n",
       "      <td>§ 51!</td>\n",
       "      <td>9</td>\n",
       "      <td>3</td>\n",
       "      <td>20</td>\n",
       "    </tr>\n",
       "    <tr>\n",
       "      <th>3</th>\n",
       "      <td>3</td>\n",
       "      <td>Zuruf</td>\n",
       "      <td></td>\n",
       "      <td></td>\n",
       "      <td>-1</td>\n",
       "      <td>links</td>\n",
       "      <td>11</td>\n",
       "      <td>0</td>\n",
       "      <td>-1</td>\n",
       "    </tr>\n",
       "    <tr>\n",
       "      <th>4</th>\n",
       "      <td>4</td>\n",
       "      <td>Personen-Einruf</td>\n",
       "      <td></td>\n",
       "      <td>blücher</td>\n",
       "      <td>11000202</td>\n",
       "      <td>Jawohl!</td>\n",
       "      <td>12</td>\n",
       "      <td>0</td>\n",
       "      <td>13</td>\n",
       "    </tr>\n",
       "  </tbody>\n",
       "</table>\n",
       "</div>"
      ],
      "text/plain": [
       "   id             type firstName lastName  politicianId  content  speechId  \\\n",
       "0   0           Lachen                               -1    links         6   \n",
       "1   1  Personen-Einruf             hütter      11000979    Nein!         6   \n",
       "2   2            Zuruf                               -1    § 51!         9   \n",
       "3   3            Zuruf                               -1    links        11   \n",
       "4   4  Personen-Einruf            blücher      11000202  Jawohl!        12   \n",
       "\n",
       "   textPosition  factionId  \n",
       "0             7         -1  \n",
       "1             2         13  \n",
       "2             3         20  \n",
       "3             0         -1  \n",
       "4             0         13  "
      ]
     },
     "execution_count": 4,
     "metadata": {},
     "output_type": "execute_result"
    }
   ],
   "source": [
    "contributions_extended = pd.read_feather('contributions_extended.feather')\n",
    "contributions_extended.head()"
   ]
  },
  {
   "cell_type": "code",
   "execution_count": 5,
   "metadata": {},
   "outputs": [
    {
     "data": {
      "text/html": [
       "<div>\n",
       "<style scoped>\n",
       "    .dataframe tbody tr th:only-of-type {\n",
       "        vertical-align: middle;\n",
       "    }\n",
       "\n",
       "    .dataframe tbody tr th {\n",
       "        vertical-align: top;\n",
       "    }\n",
       "\n",
       "    .dataframe thead th {\n",
       "        text-align: right;\n",
       "    }\n",
       "</style>\n",
       "<table border=\"1\" class=\"dataframe\">\n",
       "  <thead>\n",
       "    <tr style=\"text-align: right;\">\n",
       "      <th></th>\n",
       "      <th>id</th>\n",
       "      <th>textPosition</th>\n",
       "      <th>speechId</th>\n",
       "      <th>content</th>\n",
       "    </tr>\n",
       "  </thead>\n",
       "  <tbody>\n",
       "    <tr>\n",
       "      <th>0</th>\n",
       "      <td>0</td>\n",
       "      <td>0</td>\n",
       "      <td>2</td>\n",
       "      <td>(Der Bundespräsident leistet diesen Eid.)</td>\n",
       "    </tr>\n",
       "    <tr>\n",
       "      <th>1</th>\n",
       "      <td>1</td>\n",
       "      <td>4</td>\n",
       "      <td>5</td>\n",
       "      <td>(dem Bundespräsidenten die Hand reichend)</td>\n",
       "    </tr>\n",
       "    <tr>\n",
       "      <th>2</th>\n",
       "      <td>2</td>\n",
       "      <td>3</td>\n",
       "      <td>5</td>\n",
       "      <td>(Langanhaltender lebhafter Beifall.)</td>\n",
       "    </tr>\n",
       "    <tr>\n",
       "      <th>3</th>\n",
       "      <td>3</td>\n",
       "      <td>2</td>\n",
       "      <td>5</td>\n",
       "      <td>(Bundespräsident Dr. Heuss)</td>\n",
       "    </tr>\n",
       "    <tr>\n",
       "      <th>4</th>\n",
       "      <td>4</td>\n",
       "      <td>1</td>\n",
       "      <td>5</td>\n",
       "      <td>(Sehr richtig!)</td>\n",
       "    </tr>\n",
       "  </tbody>\n",
       "</table>\n",
       "</div>"
      ],
      "text/plain": [
       "   id  textPosition  speechId                                    content\n",
       "0   0             0         2  (Der Bundespräsident leistet diesen Eid.)\n",
       "1   1             4         5  (dem Bundespräsidenten die Hand reichend)\n",
       "2   2             3         5       (Langanhaltender lebhafter Beifall.)\n",
       "3   3             2         5                (Bundespräsident Dr. Heuss)\n",
       "4   4             1         5                            (Sehr richtig!)"
      ]
     },
     "execution_count": 5,
     "metadata": {},
     "output_type": "execute_result"
    }
   ],
   "source": [
    "contributions_simplified = pd.read_feather('contributions_simplified.feather')\n",
    "contributions_simplified.head()"
   ]
  },
  {
   "cell_type": "code",
   "execution_count": 6,
   "metadata": {},
   "outputs": [
    {
     "data": {
      "text/plain": [
       "(2451436, 9)"
      ]
     },
     "execution_count": 6,
     "metadata": {},
     "output_type": "execute_result"
    }
   ],
   "source": [
    "contributions_extended.shape"
   ]
  },
  {
   "cell_type": "code",
   "execution_count": 8,
   "metadata": {},
   "outputs": [
    {
     "data": {
      "text/plain": [
       "(2131773, 4)"
      ]
     },
     "execution_count": 8,
     "metadata": {},
     "output_type": "execute_result"
    }
   ],
   "source": [
    "contributions_simplified.shape"
   ]
  },
  {
   "cell_type": "code",
   "execution_count": 9,
   "metadata": {},
   "outputs": [
    {
     "data": {
      "text/html": [
       "<div>\n",
       "<style scoped>\n",
       "    .dataframe tbody tr th:only-of-type {\n",
       "        vertical-align: middle;\n",
       "    }\n",
       "\n",
       "    .dataframe tbody tr th {\n",
       "        vertical-align: top;\n",
       "    }\n",
       "\n",
       "    .dataframe thead th {\n",
       "        text-align: right;\n",
       "    }\n",
       "</style>\n",
       "<table border=\"1\" class=\"dataframe\">\n",
       "  <thead>\n",
       "    <tr style=\"text-align: right;\">\n",
       "      <th></th>\n",
       "      <th>id</th>\n",
       "      <th>firstName</th>\n",
       "      <th>lastName</th>\n",
       "      <th>birthPlace</th>\n",
       "      <th>birthCountry</th>\n",
       "      <th>birthDate</th>\n",
       "      <th>deathDate</th>\n",
       "      <th>gender</th>\n",
       "      <th>profession</th>\n",
       "      <th>aristocracy</th>\n",
       "      <th>academicTitle</th>\n",
       "    </tr>\n",
       "  </thead>\n",
       "  <tbody>\n",
       "    <tr>\n",
       "      <th>0</th>\n",
       "      <td>11000001</td>\n",
       "      <td>Manfred</td>\n",
       "      <td>Abelein</td>\n",
       "      <td>Stuttgart</td>\n",
       "      <td>Deutschland</td>\n",
       "      <td>1930-10-20</td>\n",
       "      <td>2008-01-17</td>\n",
       "      <td>männlich</td>\n",
       "      <td>Rechtsanwalt, Wirtschaftsprüfer, Universitätsp...</td>\n",
       "      <td>None</td>\n",
       "      <td>Prof. Dr.</td>\n",
       "    </tr>\n",
       "    <tr>\n",
       "      <th>1</th>\n",
       "      <td>11000002</td>\n",
       "      <td>Ernst</td>\n",
       "      <td>Achenbach</td>\n",
       "      <td>Siegen</td>\n",
       "      <td>Deutschland</td>\n",
       "      <td>1909-04-09</td>\n",
       "      <td>1991-12-02</td>\n",
       "      <td>männlich</td>\n",
       "      <td>Rechtsanwalt und Notar</td>\n",
       "      <td>None</td>\n",
       "      <td>Dr.</td>\n",
       "    </tr>\n",
       "    <tr>\n",
       "      <th>2</th>\n",
       "      <td>11000003</td>\n",
       "      <td>Annemarie</td>\n",
       "      <td>Ackermann</td>\n",
       "      <td>Parabutsch</td>\n",
       "      <td>Jugoslawien</td>\n",
       "      <td>1913-05-26</td>\n",
       "      <td>1994-02-18</td>\n",
       "      <td>weiblich</td>\n",
       "      <td>Hilfsreferentin</td>\n",
       "      <td>None</td>\n",
       "      <td>None</td>\n",
       "    </tr>\n",
       "    <tr>\n",
       "      <th>3</th>\n",
       "      <td>11000004</td>\n",
       "      <td>Else</td>\n",
       "      <td>Ackermann</td>\n",
       "      <td>Berlin</td>\n",
       "      <td>Deutschland</td>\n",
       "      <td>1933-11-06</td>\n",
       "      <td>2019-09-14</td>\n",
       "      <td>weiblich</td>\n",
       "      <td>Ärztin</td>\n",
       "      <td>None</td>\n",
       "      <td>Dr.</td>\n",
       "    </tr>\n",
       "    <tr>\n",
       "      <th>4</th>\n",
       "      <td>11000005</td>\n",
       "      <td>Ulrich</td>\n",
       "      <td>Adam</td>\n",
       "      <td>Teterow, Kr. Teterow, Bezirk Neubrandenburg</td>\n",
       "      <td>Deutschland</td>\n",
       "      <td>1950-06-09</td>\n",
       "      <td>None</td>\n",
       "      <td>männlich</td>\n",
       "      <td>Mathematiker, Geschäftsführer</td>\n",
       "      <td>None</td>\n",
       "      <td>None</td>\n",
       "    </tr>\n",
       "  </tbody>\n",
       "</table>\n",
       "</div>"
      ],
      "text/plain": [
       "         id  firstName   lastName  \\\n",
       "0  11000001    Manfred    Abelein   \n",
       "1  11000002      Ernst  Achenbach   \n",
       "2  11000003  Annemarie  Ackermann   \n",
       "3  11000004       Else  Ackermann   \n",
       "4  11000005     Ulrich       Adam   \n",
       "\n",
       "                                    birthPlace birthCountry   birthDate  \\\n",
       "0                                    Stuttgart  Deutschland  1930-10-20   \n",
       "1                                       Siegen  Deutschland  1909-04-09   \n",
       "2                                   Parabutsch  Jugoslawien  1913-05-26   \n",
       "3                                       Berlin  Deutschland  1933-11-06   \n",
       "4  Teterow, Kr. Teterow, Bezirk Neubrandenburg  Deutschland  1950-06-09   \n",
       "\n",
       "    deathDate    gender                                         profession  \\\n",
       "0  2008-01-17  männlich  Rechtsanwalt, Wirtschaftsprüfer, Universitätsp...   \n",
       "1  1991-12-02  männlich                             Rechtsanwalt und Notar   \n",
       "2  1994-02-18  weiblich                                    Hilfsreferentin   \n",
       "3  2019-09-14  weiblich                                             Ärztin   \n",
       "4        None  männlich                      Mathematiker, Geschäftsführer   \n",
       "\n",
       "  aristocracy academicTitle  \n",
       "0        None     Prof. Dr.  \n",
       "1        None           Dr.  \n",
       "2        None          None  \n",
       "3        None           Dr.  \n",
       "4        None          None  "
      ]
     },
     "execution_count": 9,
     "metadata": {},
     "output_type": "execute_result"
    }
   ],
   "source": [
    "politicians = pd.read_feather('politicians.feather')\n",
    "politicians.head()"
   ]
  },
  {
   "cell_type": "code",
   "execution_count": 10,
   "metadata": {},
   "outputs": [
    {
     "data": {
      "text/plain": [
       "(4102, 11)"
      ]
     },
     "execution_count": 10,
     "metadata": {},
     "output_type": "execute_result"
    }
   ],
   "source": [
    "politicians.shape"
   ]
  },
  {
   "cell_type": "code",
   "execution_count": 11,
   "metadata": {},
   "outputs": [
    {
     "data": {
      "text/html": [
       "<div>\n",
       "<style scoped>\n",
       "    .dataframe tbody tr th:only-of-type {\n",
       "        vertical-align: middle;\n",
       "    }\n",
       "\n",
       "    .dataframe tbody tr th {\n",
       "        vertical-align: top;\n",
       "    }\n",
       "\n",
       "    .dataframe thead th {\n",
       "        text-align: right;\n",
       "    }\n",
       "</style>\n",
       "<table border=\"1\" class=\"dataframe\">\n",
       "  <thead>\n",
       "    <tr style=\"text-align: right;\">\n",
       "      <th></th>\n",
       "      <th>id</th>\n",
       "      <th>startDate</th>\n",
       "      <th>endDate</th>\n",
       "    </tr>\n",
       "  </thead>\n",
       "  <tbody>\n",
       "    <tr>\n",
       "      <th>0</th>\n",
       "      <td>1</td>\n",
       "      <td>-641174400</td>\n",
       "      <td>-512524800</td>\n",
       "    </tr>\n",
       "    <tr>\n",
       "      <th>1</th>\n",
       "      <td>2</td>\n",
       "      <td>-512438400</td>\n",
       "      <td>-385516800</td>\n",
       "    </tr>\n",
       "    <tr>\n",
       "      <th>2</th>\n",
       "      <td>3</td>\n",
       "      <td>-385430400</td>\n",
       "      <td>-259113600</td>\n",
       "    </tr>\n",
       "    <tr>\n",
       "      <th>3</th>\n",
       "      <td>4</td>\n",
       "      <td>-259027200</td>\n",
       "      <td>-132710400</td>\n",
       "    </tr>\n",
       "    <tr>\n",
       "      <th>4</th>\n",
       "      <td>5</td>\n",
       "      <td>-132624000</td>\n",
       "      <td>-6393600</td>\n",
       "    </tr>\n",
       "  </tbody>\n",
       "</table>\n",
       "</div>"
      ],
      "text/plain": [
       "   id  startDate    endDate\n",
       "0   1 -641174400 -512524800\n",
       "1   2 -512438400 -385516800\n",
       "2   3 -385430400 -259113600\n",
       "3   4 -259027200 -132710400\n",
       "4   5 -132624000   -6393600"
      ]
     },
     "execution_count": 11,
     "metadata": {},
     "output_type": "execute_result"
    }
   ],
   "source": [
    "electoral_terms = pd.read_feather('electoral_terms.feather')\n",
    "electoral_terms.head()"
   ]
  },
  {
   "cell_type": "code",
   "execution_count": 12,
   "metadata": {},
   "outputs": [
    {
     "data": {
      "text/plain": [
       "(19, 3)"
      ]
     },
     "execution_count": 12,
     "metadata": {},
     "output_type": "execute_result"
    }
   ],
   "source": [
    "electoral_terms.shape"
   ]
  },
  {
   "cell_type": "code",
   "execution_count": 2,
   "metadata": {},
   "outputs": [
    {
     "data": {
      "text/html": [
       "<div>\n",
       "<style scoped>\n",
       "    .dataframe tbody tr th:only-of-type {\n",
       "        vertical-align: middle;\n",
       "    }\n",
       "\n",
       "    .dataframe tbody tr th {\n",
       "        vertical-align: top;\n",
       "    }\n",
       "\n",
       "    .dataframe thead th {\n",
       "        text-align: right;\n",
       "    }\n",
       "</style>\n",
       "<table border=\"1\" class=\"dataframe\">\n",
       "  <thead>\n",
       "    <tr style=\"text-align: right;\">\n",
       "      <th></th>\n",
       "      <th>id</th>\n",
       "      <th>session</th>\n",
       "      <th>electoralTerm</th>\n",
       "      <th>firstName</th>\n",
       "      <th>lastName</th>\n",
       "      <th>politicianId</th>\n",
       "      <th>speechContent</th>\n",
       "      <th>factionId</th>\n",
       "      <th>documentUrl</th>\n",
       "      <th>positionShort</th>\n",
       "      <th>positionLong</th>\n",
       "      <th>date</th>\n",
       "    </tr>\n",
       "  </thead>\n",
       "  <tbody>\n",
       "    <tr>\n",
       "      <th>0</th>\n",
       "      <td>0.0</td>\n",
       "      <td>2.0</td>\n",
       "      <td>1.0</td>\n",
       "      <td></td>\n",
       "      <td>Köhler</td>\n",
       "      <td>11001150.0</td>\n",
       "      <td>Meine Damen und Herren! Ich eröffne die 2. Sit...</td>\n",
       "      <td>-1.0</td>\n",
       "      <td>https://dip21.bundestag.de/dip21/btp/01/01002.pdf</td>\n",
       "      <td>Presidium of Parliament</td>\n",
       "      <td>präsident</td>\n",
       "      <td>1949-09-12</td>\n",
       "    </tr>\n",
       "    <tr>\n",
       "      <th>1</th>\n",
       "      <td>1.0</td>\n",
       "      <td>2.0</td>\n",
       "      <td>1.0</td>\n",
       "      <td></td>\n",
       "      <td>Arnold</td>\n",
       "      <td>-1.0</td>\n",
       "      <td>Der Bundesrat ist versammelt, Herr Präsident.\\n</td>\n",
       "      <td>-1.0</td>\n",
       "      <td>https://dip21.bundestag.de/dip21/btp/01/01002.pdf</td>\n",
       "      <td>Guest</td>\n",
       "      <td>präsident des bundesrats</td>\n",
       "      <td>1949-09-12</td>\n",
       "    </tr>\n",
       "    <tr>\n",
       "      <th>2</th>\n",
       "      <td>2.0</td>\n",
       "      <td>2.0</td>\n",
       "      <td>1.0</td>\n",
       "      <td></td>\n",
       "      <td>Köhler</td>\n",
       "      <td>11001150.0</td>\n",
       "      <td>Ich danke für diese Erklärung. Ich stelle dami...</td>\n",
       "      <td>-1.0</td>\n",
       "      <td>https://dip21.bundestag.de/dip21/btp/01/01002.pdf</td>\n",
       "      <td>Presidium of Parliament</td>\n",
       "      <td>präsident</td>\n",
       "      <td>1949-09-12</td>\n",
       "    </tr>\n",
       "    <tr>\n",
       "      <th>3</th>\n",
       "      <td>3.0</td>\n",
       "      <td>2.0</td>\n",
       "      <td>1.0</td>\n",
       "      <td></td>\n",
       "      <td>Heuss</td>\n",
       "      <td>-1.0</td>\n",
       "      <td>Ja, ich habe den Wunsch.\\n</td>\n",
       "      <td>-1.0</td>\n",
       "      <td>https://dip21.bundestag.de/dip21/btp/01/01002.pdf</td>\n",
       "      <td>Guest</td>\n",
       "      <td>bundespräsident</td>\n",
       "      <td>1949-09-12</td>\n",
       "    </tr>\n",
       "    <tr>\n",
       "      <th>4</th>\n",
       "      <td>4.0</td>\n",
       "      <td>2.0</td>\n",
       "      <td>1.0</td>\n",
       "      <td></td>\n",
       "      <td>Köhler</td>\n",
       "      <td>11001150.0</td>\n",
       "      <td>Ich erteile dem Herrn Bundespräsidenten das Wo...</td>\n",
       "      <td>-1.0</td>\n",
       "      <td>https://dip21.bundestag.de/dip21/btp/01/01002.pdf</td>\n",
       "      <td>Presidium of Parliament</td>\n",
       "      <td>präsident</td>\n",
       "      <td>1949-09-12</td>\n",
       "    </tr>\n",
       "  </tbody>\n",
       "</table>\n",
       "</div>"
      ],
      "text/plain": [
       "    id  session  electoralTerm firstName lastName  politicianId  \\\n",
       "0  0.0      2.0            1.0             Köhler    11001150.0   \n",
       "1  1.0      2.0            1.0             Arnold          -1.0   \n",
       "2  2.0      2.0            1.0             Köhler    11001150.0   \n",
       "3  3.0      2.0            1.0              Heuss          -1.0   \n",
       "4  4.0      2.0            1.0             Köhler    11001150.0   \n",
       "\n",
       "                                       speechContent  factionId  \\\n",
       "0  Meine Damen und Herren! Ich eröffne die 2. Sit...       -1.0   \n",
       "1    Der Bundesrat ist versammelt, Herr Präsident.\\n       -1.0   \n",
       "2  Ich danke für diese Erklärung. Ich stelle dami...       -1.0   \n",
       "3                         Ja, ich habe den Wunsch.\\n       -1.0   \n",
       "4  Ich erteile dem Herrn Bundespräsidenten das Wo...       -1.0   \n",
       "\n",
       "                                         documentUrl            positionShort  \\\n",
       "0  https://dip21.bundestag.de/dip21/btp/01/01002.pdf  Presidium of Parliament   \n",
       "1  https://dip21.bundestag.de/dip21/btp/01/01002.pdf                    Guest   \n",
       "2  https://dip21.bundestag.de/dip21/btp/01/01002.pdf  Presidium of Parliament   \n",
       "3  https://dip21.bundestag.de/dip21/btp/01/01002.pdf                    Guest   \n",
       "4  https://dip21.bundestag.de/dip21/btp/01/01002.pdf  Presidium of Parliament   \n",
       "\n",
       "               positionLong        date  \n",
       "0                 präsident  1949-09-12  \n",
       "1  präsident des bundesrats  1949-09-12  \n",
       "2                 präsident  1949-09-12  \n",
       "3           bundespräsident  1949-09-12  \n",
       "4                 präsident  1949-09-12  "
      ]
     },
     "execution_count": 2,
     "metadata": {},
     "output_type": "execute_result"
    }
   ],
   "source": [
    "speeches = pd.read_feather('speeches.feather')\n",
    "speeches.head()"
   ]
  },
  {
   "cell_type": "code",
   "execution_count": 14,
   "metadata": {},
   "outputs": [
    {
     "data": {
      "text/plain": [
       "(899526, 12)"
      ]
     },
     "execution_count": 14,
     "metadata": {},
     "output_type": "execute_result"
    }
   ],
   "source": [
    "speeches.shape"
   ]
  },
  {
   "cell_type": "markdown",
   "metadata": {},
   "source": [
    "Now we see max date and min date present on speeches table."
   ]
  },
  {
   "cell_type": "code",
   "execution_count": 16,
   "metadata": {},
   "outputs": [
    {
     "data": {
      "text/plain": [
       "datetime.date(2020, 12, 17)"
      ]
     },
     "execution_count": 16,
     "metadata": {},
     "output_type": "execute_result"
    }
   ],
   "source": [
    "speeches.date.max()"
   ]
  },
  {
   "cell_type": "code",
   "execution_count": 17,
   "metadata": {},
   "outputs": [
    {
     "data": {
      "text/plain": [
       "datetime.date(1949, 9, 12)"
      ]
     },
     "execution_count": 17,
     "metadata": {},
     "output_type": "execute_result"
    }
   ],
   "source": [
    "speeches.date.min()"
   ]
  },
  {
   "cell_type": "markdown",
   "metadata": {},
   "source": [
    "Now we split the speeches table on the basis of date so that later we do not have to load whole table each time, as we are only interested in speeches of year 2019 and 2020."
   ]
  },
  {
   "cell_type": "code",
   "execution_count": 34,
   "metadata": {},
   "outputs": [],
   "source": [
    "speeches_2020 = speeches[((speeches.date >= date(2020, 1, 1)) & (speeches.date <= date(2020, 12, 31)))]\n",
    "speeches_2020.reset_index(drop=True, inplace=True)\n",
    "speeches_2020.to_feather('speeches_2020.feather')"
   ]
  },
  {
   "cell_type": "code",
   "execution_count": 35,
   "metadata": {},
   "outputs": [],
   "source": [
    "speeches_2019 = speeches[((speeches.date >= date(2019, 1, 1)) & (speeches.date <= date(2019, 12, 31)))]\n",
    "speeches_2019.reset_index(drop=True, inplace=True)\n",
    "speeches_2019.to_feather('speeches_2019.feather')"
   ]
  },
  {
   "cell_type": "code",
   "execution_count": 15,
   "metadata": {},
   "outputs": [],
   "source": [
    "speeches_2019_2020 = speeches[((speeches.date >= date(2019, 1, 1)) & (speeches.date <= date(2020, 12, 31)))]\n",
    "speeches_2019_2020.reset_index(drop=True, inplace=True)\n",
    "speeches_2019_2020.to_feather('speeches_2019_2020.feather')"
   ]
  }
 ],
 "metadata": {
  "kernelspec": {
   "display_name": "Python 3",
   "language": "python",
   "name": "python3"
  },
  "language_info": {
   "codemirror_mode": {
    "name": "ipython",
    "version": 3
   },
   "file_extension": ".py",
   "mimetype": "text/x-python",
   "name": "python",
   "nbconvert_exporter": "python",
   "pygments_lexer": "ipython3",
   "version": "3.8.5"
  }
 },
 "nbformat": 4,
 "nbformat_minor": 4
}
