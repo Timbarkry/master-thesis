{
 "cells": [
  {
   "cell_type": "code",
   "execution_count": 1,
   "metadata": {},
   "outputs": [],
   "source": [
    "import re\n",
    "import spacy\n",
    "import numpy as np\n",
    "import pandas as pd\n",
    "import seaborn as sns\n",
    "import matplotlib.pyplot as plt"
   ]
  },
  {
   "cell_type": "markdown",
   "metadata": {},
   "source": [
    "We find the similar keywords using the speeches from 2020 only, so first we load the speeches."
   ]
  },
  {
   "cell_type": "code",
   "execution_count": 2,
   "metadata": {},
   "outputs": [],
   "source": [
    "speeches = pd.read_feather('speeches_2020.feather')"
   ]
  },
  {
   "cell_type": "markdown",
   "metadata": {},
   "source": [
    "Then we filter the speeches with length less than 1000."
   ]
  },
  {
   "cell_type": "code",
   "execution_count": 4,
   "metadata": {},
   "outputs": [
    {
     "data": {
      "image/png": "[encoded data removed]",
      "text/plain": [
       "<Figure size 432x288 with 1 Axes>"
      ]
     },
     "metadata": {
      "needs_background": "light"
     },
     "output_type": "display_data"
    }
   ],
   "source": [
    "speeches_len = speeches.speechContent.apply(lambda s: len(s))\n",
    "plt.hist(speeches_len, bins=100)\n",
    "plt.show()"
   ]
  },
  {
   "cell_type": "code",
   "execution_count": 7,
   "metadata": {},
   "outputs": [
    {
     "data": {
      "text/plain": [
       "(6826, 12)"
      ]
     },
     "execution_count": 7,
     "metadata": {},
     "output_type": "execute_result"
    }
   ],
   "source": [
    "new_speeches = speeches[speeches.speechContent.str.len() > 1000]\n",
    "new_speeches.shape"
   ]
  },
  {
   "cell_type": "code",
   "execution_count": 8,
   "metadata": {},
   "outputs": [
    {
     "data": {
      "image/png": "[encoded data removed]",
      "text/plain": [
       "<Figure size 432x288 with 1 Axes>"
      ]
     },
     "metadata": {
      "needs_background": "light"
     },
     "output_type": "display_data"
    }
   ],
   "source": [
    "speeches_len = new_speeches.speechContent.apply(lambda s: len(s))\n",
    "plt.hist(speeches_len, bins=100)\n",
    "plt.show()"
   ]
  },
  {
   "cell_type": "markdown",
   "metadata": {},
   "source": [
    "Now, we load the spacy model of German language."
   ]
  },
  {
   "cell_type": "code",
   "execution_count": 10,
   "metadata": {},
   "outputs": [
    {
     "name": "stderr",
     "output_type": "stream",
     "text": [
      "/home/osho/miniconda3/envs/nlp/lib/python3.8/site-packages/torch/cuda/__init__.py:52: UserWarning: CUDA initialization: CUDA unknown error - this may be due to an incorrectly set up environment, e.g. changing env variable CUDA_VISIBLE_DEVICES after program start. Setting the available devices to be zero. (Triggered internally at  /pytorch/c10/cuda/CUDAFunctions.cpp:100.)\n",
      "  return torch._C._cuda_getDeviceCount() > 0\n"
     ]
    }
   ],
   "source": [
    "nlp = spacy.load('de_core_news_lg')"
   ]
  },
  {
   "cell_type": "code",
   "execution_count": 11,
   "metadata": {},
   "outputs": [],
   "source": [
    "def clean_up_text(text):\n",
    "    text = text.replace('-\\n\\n', '').replace('\\n\\n', ' ').replace('-\\n', '')\n",
    "    text = text.replace('\\n', ' ').replace('\\xa0', '').replace('–', '').replace('\\u202f', '')\n",
    "    text = re.sub(r'\\({\\d}\\)', ' ', text)\n",
    "    return text.lower()"
   ]
  },
  {
   "cell_type": "markdown",
   "metadata": {},
   "source": [
    "Then, we run the nlp model through each of the cleaned speech content."
   ]
  },
  {
   "cell_type": "code",
   "execution_count": 12,
   "metadata": {},
   "outputs": [],
   "source": [
    "for speech in new_speeches.speechContent:\n",
    "    _ = nlp(clean_up_text(speech))"
   ]
  },
  {
   "cell_type": "markdown",
   "metadata": {},
   "source": [
    "Here is the function to extract similar words, it is based on similarity index provided by spacy itself."
   ]
  },
  {
   "cell_type": "code",
   "execution_count": 13,
   "metadata": {},
   "outputs": [],
   "source": [
    "def most_similar(word, topn=5):\n",
    "    word = word.lower()\n",
    "    word = nlp.vocab[str(word)]\n",
    "    queries = [\n",
    "        w for w in word.vocab \n",
    "        if w.is_lower == word.is_lower and np.count_nonzero(w.vector)\n",
    "    ]\n",
    "\n",
    "    by_similarity = sorted(queries, key=lambda w: word.similarity(w), reverse=True)\n",
    "    return [(w.lower_,w.similarity(word)) for w in by_similarity[:topn+1] if w.lower_ != word.lower_]"
   ]
  },
  {
   "cell_type": "markdown",
   "metadata": {},
   "source": [
    "These are the keywords we chose to work with in the beginning, but after this step we expand our keywords adding more similar keywords to the list."
   ]
  },
  {
   "cell_type": "code",
   "execution_count": 14,
   "metadata": {},
   "outputs": [],
   "source": [
    "keywords = ['Senioren', 'Pflege', 'Technologie', 'Datenschutz', 'Gesundheit', 'Infektion', 'Medikamente',\n",
    " 'Digitalisierung', 'Transparenz', 'Software', 'App', 'Handy', 'Information', 'Krank', 'Corona',\n",
    " 'Innovation', 'Erwachsene', 'Privatsphäre', 'Internet', 'Rentner', 'Rentnerin', 'Patient',\n",
    " 'Krankheit', 'Krankenschwester', 'Arzt', 'Krankenhaus', 'Klinik', 'Pflegeheim', 'Rente']"
   ]
  },
  {
   "cell_type": "markdown",
   "metadata": {},
   "source": [
    "Finally, we print out the 15 most similar keywords for each of the above mentioned keywords."
   ]
  },
  {
   "cell_type": "code",
   "execution_count": 15,
   "metadata": {
    "scrolled": false
   },
   "outputs": [
    {
     "name": "stdout",
     "output_type": "stream",
     "text": [
      "Senioren\n",
      "[('familienmitglieder', 0.6848759), ('altersgruppen', 0.68037844), ('familien', 0.6759472), ('gruppen', 0.67279756), ('kindergarten', 0.6686923), ('reutlingen', 0.6598957), ('kinder', 0.65148264), ('kinderbetreuung', 0.6511692), ('kindertagesstätte', 0.65002984), ('euskirchen', 0.64355403), ('freundschaften', 0.6427213), ('mitglieder', 0.6404875), ('mitgliedern', 0.6332813), ('partnerschaften', 0.6332433), ('ehepaare', 0.6316042)]\n",
      "\n",
      "Pflege\n",
      "[('pflege-', 0.8113558), ('altenpflege', 0.7780991), ('körperpflege', 0.75695336), ('krankenpflege', 0.7528718), ('pfleger', 0.74941653), ('pflegen', 0.7482368), ('tagespflege', 0.70086604), ('pflegeheim', 0.6887157), ('pflegende', 0.67496455), ('pflegender', 0.67233944), ('betreuung', 0.6357204), ('pflegenden', 0.6356529), ('pflegerische', 0.6319217), ('kinderbetreuung', 0.62599677), ('fürsorge', 0.6218084)]\n",
      "\n",
      "Technologie\n",
      "[('technologien', 0.93937874), ('technologie-', 0.8827327), ('informationstechnologie', 0.85373545), ('innovation', 0.84857804), ('technologisch', 0.84204406), ('technik', 0.83789265), ('technologische', 0.82798535), ('innovationen', 0.8262395), ('hochtechnologische', 0.81398124), ('systeme', 0.793172), ('technologischen', 0.7869067), ('technologischem', 0.7860573), ('technologischer', 0.7791718), ('entwicklung', 0.7774574), ('medizintechnik', 0.77739525)]\n",
      "\n",
      "Datenschutz\n",
      "[('datenschutz-', 0.8903443), ('datensicherheit', 0.7551954), ('datenverarbeitung', 0.74271387), ('jugendschutz', 0.72796184), ('datenschützer', 0.72783685), ('schutz', 0.72751427), ('datenschutzrechtlich', 0.7263868), ('arbeitsschutz', 0.7234828), ('datenschutzrechtliche', 0.72004545), ('datenschutzrechtlichen', 0.70208937), ('kinderschutz', 0.69670427), ('datenschutzrechtlicher', 0.69628054), ('mutterschutz', 0.69420993), ('verbraucherschutz', 0.6933399), ('informationstechnologie', 0.68520355)]\n",
      "\n",
      "Gesundheit\n",
      "[('gesundheitswesen', 0.81805664), ('ernährung', 0.81058836), ('krankheit', 0.8065255), ('lebensqualität', 0.803744), ('gesundheitsversorgung', 0.7873516), ('gesundheits-', 0.7661247), ('gesundheitsberufe', 0.76465416), ('krankheiten', 0.7569052), ('gesundheitlich', 0.75578195), ('lebenserwartung', 0.7504608), ('gesundheitliche', 0.75042146), ('gesundheitsbewussten', 0.74471694), ('nahrung', 0.7414398), ('sexualität', 0.7399582), ('schwangerschaft', 0.7350383)]\n",
      "\n",
      "Infektion\n",
      "[('infektionen', 0.85763633), ('infektionskrankheiten', 0.8334875), ('lungenentzündung', 0.82629436), ('desinfektion', 0.81364185), ('erkrankung', 0.8125338), ('herz-kreislauf-erkrankungen', 0.7876623), ('behandlung', 0.78577435), ('erkrankungen', 0.77378386), ('krankheit', 0.7683676), ('transplantation', 0.763137), ('bakterien', 0.7583285), ('exposition', 0.74984944), ('krankheiten', 0.7488393), ('nebenwirkung', 0.7466589), ('impfung', 0.7457619)]\n",
      "\n",
      "Medikamente\n",
      "[('medikamenten', 0.9289814), ('medikaments', 0.8935187), ('arzneimittel', 0.8628365), ('medikament', 0.8526022), ('herz-kreislauf-erkrankungen', 0.8363062), ('nebenwirkungen', 0.8310189), ('infektionen', 0.8238703), ('arzneimitteln', 0.8219608), ('patienten', 0.8215675), ('krankheiten', 0.8145783), ('behandlungen', 0.8139241), ('pillen', 0.81108755), ('antibiotika', 0.8081725), ('impfstoffe', 0.80101717), ('ursachen', 0.7996768)]\n",
      "\n",
      "Digitalisierung\n",
      "[('globalisierung', 0.8663303), ('realisierung', 0.863833), ('automatisierung', 0.85860157), ('visualisierung', 0.8570954), ('individualisierung', 0.8524934), ('implementierung', 0.829991), ('vernetzung', 0.8179765), ('transformation', 0.8175298), ('weiterentwicklung', 0.8155441), ('digitalisierten', 0.80911374), ('personalentwicklung', 0.80910426), ('entwicklung', 0.80494046), ('modernisierung', 0.80476606), ('informationstechnologie', 0.80337715), ('programmierung', 0.7957414)]\n",
      "\n",
      "Transparenz\n",
      "[('transparency', 0.8379838), ('transparente', 0.7816442), ('flexibilität', 0.7703123), ('intransparente', 0.761414), ('transparenteren', 0.75328594), ('transparenten', 0.7489673), ('transparentere', 0.74668574), ('sicherheit', 0.74399155), ('intransparenten', 0.7400012), ('effizienz', 0.7293345), ('funktionalität', 0.72594243), ('datensicherheit', 0.7257463), ('klarheit', 0.72168744), ('integrität', 0.72136456), ('transparenter', 0.71894)]\n",
      "\n",
      "Software\n",
      "[('hardware', 0.8116832), ('programme', 0.7547554), ('programmierer', 0.73827195), ('computer', 0.7364295), ('programmierung', 0.73536706), ('tools', 0.73493177), ('betriebssysteme', 0.73176277), ('microsoft', 0.7210009), ('systeme', 0.7185783), ('konfiguration', 0.71143085), ('computer-', 0.7105732), ('installation', 0.70792073), ('enterprise', 0.70252675), ('betriebssystem', 0.6989161), ('plattform', 0.69801694)]\n",
      "\n",
      "App\n",
      "[('apps', 0.8506519), ('iphone', 0.6733554), ('handy', 0.6533675), ('ipad', 0.6526096), ('whatsapp', 0.62981063), ('snapchat', 0.6241374), ('apple', 0.6205061), ('sms', 0.6056881), ('chatrooms', 0.60309005), ('chatroom', 0.598139), ('store', 0.59141773), ('chats', 0.5880531), ('facebook', 0.5823022), ('website', 0.5817493), ('videochat', 0.58048993)]\n",
      "\n",
      "Handy\n",
      "[('iphone', 0.7910077), ('smartphone', 0.79093933), ('handys', 0.77605677), ('tablet', 0.7404182), ('telefon', 0.74014425), ('ipad', 0.6763131), ('laptop', 0.6671028), ('auto', 0.66164964), ('mobiltelefon', 0.6603264), ('app', 0.6533675), ('telefone', 0.6461831), ('konto', 0.6377965), ('pc', 0.6376728), ('apps', 0.6368181), ('whatsapp', 0.6354115)]\n",
      "\n",
      "Information\n",
      "[('informationen', 0.84468985), ('informations-', 0.8396602), ('formation', 0.8097939), ('informationstechnologie', 0.79962444), ('informationelle', 0.78063667), ('informationellen', 0.7609288), ('implementation', 0.75755763), ('informatik', 0.7567184), ('administration', 0.756035), ('evaluation', 0.7550119), ('dokumentation', 0.7544023), ('identifikation', 0.75194556), ('kommunikation', 0.75028926), ('telekommunikation', 0.7497181), ('datenverarbeitung', 0.7480046)]\n",
      "\n",
      "Krank\n",
      "[('todkrank', 0.72590154), ('kranke', 0.70864314), ('schwerkrank', 0.6915113), ('erkrankt', 0.6755286), ('krankes', 0.6737619), ('depressiv', 0.665135), ('kranker', 0.63815343), ('geisteskrank', 0.6241937), ('arbeitsunfähig', 0.59562784), ('erkrankte', 0.59244037), ('kranken', 0.58339125), ('gesund', 0.5771169), ('erkranktem', 0.5714161), ('kränker', 0.5709791), ('erkrankter', 0.5680637)]\n",
      "\n",
      "Corona\n",
      "[('magna', 0.49717247), ('nostra', 0.48586163), ('palma', 0.48489675), ('solis', 0.4787719), ('lateinisch', 0.47592145), ('terra', 0.47275376), ('cane', 0.46581858), ('donna', 0.46533838), ('lat.', 0.46200556), ('nigra', 0.4568457), ('plana', 0.45560962), ('palme', 0.44963852), ('mater', 0.4495815), ('bologna', 0.4482791), ('nella', 0.44658712)]\n",
      "\n",
      "Innovation\n",
      "[('innovationen', 0.88425064), ('technologie', 0.84857804), ('technologie-', 0.8222545), ('technologien', 0.809751), ('informationstechnologie', 0.7993229), ('entwicklung', 0.7976431), ('weiterentwicklung', 0.7919005), ('innovative', 0.7917625), ('technologische', 0.7827144), ('personalentwicklung', 0.7780272), ('integration', 0.77776164), ('innovativen', 0.7698349), ('hochinnovativen', 0.76934016), ('kooperation', 0.767517), ('zukunftsweisende', 0.76430845)]\n",
      "\n",
      "Erwachsene\n",
      "[('erwachsener', 0.77234966), ('jugendliche', 0.7721191), ('erwachsenen', 0.76254135), ('kleinkinder', 0.684807), ('erwachsenes', 0.68389475), ('männliche', 0.66919535), ('heranwachsende', 0.66786), ('kinder', 0.6599753), ('alleinerziehende', 0.6590993), ('lesbische', 0.63639295), ('weibliche', 0.6352487), ('erwachsen', 0.63191515), ('kinderreiche', 0.6302059), ('schwangerschaft', 0.6225842), ('homosexuell', 0.62241495)]\n",
      "\n",
      "Privatsphäre\n",
      "[('anonymität', 0.7537045), ('privatleben', 0.7413166), ('persönlichkeit', 0.73131865), ('sicherheit', 0.7235201), ('interessen', 0.7136296), ('bequemlichkeit', 0.7018949), ('gelegenheit', 0.70171255), ('freiheit', 0.70096135), ('unsicherheit', 0.68570566), ('persönlichkeiten', 0.68186164), ('angelegenheit', 0.6818337), ('intimität', 0.6753237), ('meinungsfreiheit', 0.6748664), ('selbstbestimmung', 0.6699034), ('freiheiten', 0.66750824)]\n",
      "\n",
      "Internet\n",
      "[('internets', 0.77970594), ('internetzugang', 0.766477), ('internetverbindung', 0.7514476), ('netz', 0.7259164), ('internetseiten', 0.7236738), ('suchmaschinen', 0.7172244), ('webseiten', 0.71020955), ('netzwerk', 0.7092495), ('netzwerken', 0.7053752), ('plattformen', 0.7043347), ('netzwerke', 0.7026781), ('computer', 0.7014293), ('datenbanken', 0.7008465), ('internetauftritt', 0.6973865), ('internetseite', 0.69444007)]\n",
      "\n",
      "Rentner\n"
     ]
    },
    {
     "name": "stdout",
     "output_type": "stream",
     "text": [
      "[('rentnerin', 0.65548116), ('rente', 0.64077884), ('arbeitnehmer', 0.63928705), ('arbeitslosengeld', 0.63439685), ('kindergeld', 0.62358296), ('steuerzahler', 0.60841084), ('bürger', 0.6062312), ('arbeiter', 0.59635204), ('krankengeld', 0.584128), ('inhaber', 0.58168), ('arbeitgeber', 0.58092743), ('elterngeld', 0.5798917), ('arbeitslose', 0.5786541), ('ruhestand', 0.5771461), ('arbeitslos', 0.57543546)]\n",
      "\n",
      "Rentnerin\n",
      "[('haushälterin', 0.7482388), ('schwägerin', 0.7132636), ('erzieherin', 0.6999932), ('studentin', 0.6835982), ('lehrerin', 0.68326116), ('sängerin', 0.66574425), ('valentin', 0.660249), ('akademikerin', 0.6576978), ('kollegin', 0.65702856), ('putzfrau', 0.6567448), ('rentner', 0.65548116), ('schülerin', 0.6479403), ('chefin', 0.6455035), ('partnerin', 0.6414978), ('schwerin', 0.6354592)]\n",
      "\n",
      "Patient\n",
      "[('patienten', 0.8199916), ('patientin', 0.7869642), ('-patienten', 0.7443933), ('medikamente', 0.73112184), ('medikament', 0.7248075), ('medikaments', 0.72387576), ('diagnose', 0.71165735), ('behandlung', 0.7085382), ('transplantation', 0.70363826), ('herz-kreislauf-erkrankungen', 0.693834), ('medikamenten', 0.6927439), ('therapie', 0.68050706), ('krankheit', 0.6798649), ('infektion', 0.6777116), ('mediziner', 0.6729364)]\n",
      "\n",
      "Krankheit\n",
      "[('krankheiten', 0.910487), ('erkrankung', 0.88315916), ('erkrankungen', 0.8326207), ('infektionskrankheiten', 0.8139138), ('gesundheit', 0.8065255), ('herz-kreislauf-erkrankungen', 0.796898), ('ursache', 0.7924492), ('krebserkrankungen', 0.7911682), ('krankheits-', 0.7870588), ('müdigkeit', 0.7793943), ('depression', 0.7779584), ('depressionen', 0.7701861), ('ursachen', 0.7689498), ('infektion', 0.7683676), ('krankheitsanfällig', 0.7669825)]\n",
      "\n",
      "Krankenschwester\n",
      "[('krankenschwestern', 0.9199911), ('schwester', 0.7866709), ('krankenpfleger', 0.7687103), ('mütter', 0.72484833), ('schwestern', 0.72076297), ('mutter', 0.71639585), ('schwiegermutter', 0.71602535), ('krankenpflege', 0.7093324), ('lehrerin', 0.7057896), ('krankenhaus', 0.7021281), ('schwangerschaft', 0.6990822), ('tochter', 0.6964765), ('patientin', 0.6928639), ('großmutter', 0.6898071), ('altenpflegerin', 0.686176)]\n",
      "\n",
      "Arzt\n",
      "[('hausarzt', 0.88311714), ('augenarzt', 0.86331725), ('zahnarzt', 0.8335084), ('tierarzt', 0.8208946), ('kinderarzt', 0.7999741), ('facharzt', 0.77688414), ('chefarzt', 0.775812), ('ärztin', 0.7470422), ('urologe', 0.67523026), ('ärzte', 0.6477255), ('psychiater', 0.6463137), ('vater', 0.6303867), ('apotheker', 0.62586194), ('kumpel', 0.6194386), ('mediziner', 0.6153111)]\n",
      "\n",
      "Krankenhaus\n",
      "[('klinikum', 0.7852517), ('krankenhäuser', 0.7486711), ('klinik', 0.7423647), ('krankenhäusern', 0.7056041), ('pflegeheim', 0.70400995), ('krankenschwester', 0.7021281), ('krankenpfleger', 0.690357), ('krankenpflege', 0.67349315), ('krankenschwestern', 0.67252374), ('krankenhausreif', 0.6687049), ('kinderarzt', 0.65019786), ('kliniken', 0.6454343), ('krankengeld', 0.64447683), ('schlaganfall', 0.64127624), ('kranken-', 0.639177)]\n",
      "\n",
      "Klinik\n",
      "[('klinikum', 0.84835505), ('kliniken', 0.76184446), ('krankenhaus', 0.7423647), ('arztpraxis', 0.72583157), ('chefarzt', 0.7002333), ('patientin', 0.69162554), ('chirurgie', 0.68513465), ('facharzt', 0.68402106), ('ärztin', 0.66792315), ('urologe', 0.66462654), ('mediziner', 0.64756685), ('zahnarzt', 0.6437383), ('geburtshilfe', 0.6433105), ('augenarzt', 0.63903797), ('kinderarzt', 0.6370537)]\n",
      "\n",
      "Pflegeheim\n",
      "[('pfleger', 0.7542829), ('krankenpflege', 0.7519014), ('altenheim', 0.7390804), ('kindertagesstätte', 0.72912997), ('pflege-', 0.7214928), ('krankenpfleger', 0.71970135), ('krankenhaus', 0.70400995), ('lebenshilfe', 0.692477), ('pflege', 0.6887157), ('tagespflege', 0.68817985), ('familienhilfe', 0.6863552), ('altenpflege', 0.6829384), ('pflegebedürftige', 0.67724055), ('familienstand', 0.67371064), ('kinderbetreuung', 0.6642158)]\n",
      "\n",
      "Rente\n",
      "[('renten', 0.7373805), ('altersvorsorge', 0.7334076), ('rentenversicherung', 0.7166816), ('elterngeld', 0.67270464), ('krankenversicherung', 0.6712736), ('einkünfte', 0.66661996), ('lebensversicherung', 0.6648916), ('versicherung', 0.6645847), ('kfz-versicherung', 0.6635672), ('kindergeld', 0.6511115), ('vorsorge', 0.64449894), ('geldanlage', 0.6443355), ('rentner', 0.64077884), ('pflegeversicherung', 0.6361564), ('arbeitslosengeld', 0.6321596)]\n",
      "\n"
     ]
    }
   ],
   "source": [
    "for keyword in keywords:\n",
    "    print(keyword)\n",
    "    print(most_similar(keyword, topn=15))\n",
    "    print()"
   ]
  }
 ],
 "metadata": {
  "kernelspec": {
   "display_name": "Python 3",
   "language": "python",
   "name": "python3"
  },
  "language_info": {
   "codemirror_mode": {
    "name": "ipython",
    "version": 3
   },
   "file_extension": ".py",
   "mimetype": "text/x-python",
   "name": "python",
   "nbconvert_exporter": "python",
   "pygments_lexer": "ipython3",
   "version": "3.8.5"
  }
 },
 "nbformat": 4,
 "nbformat_minor": 4
}
