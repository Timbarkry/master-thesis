{
 "cells": [
  {
   "cell_type": "code",
   "execution_count": 1,
   "metadata": {},
   "outputs": [],
   "source": [
    "import spacy\n",
    "from spacy.language import Language\n",
    "from spacy.tokens import Token\n",
    "from spacy_sentiws import spaCySentiWS\n",
    "from spacy_sentiws.senti_ws_wrapper import SentiWSWrapper"
   ]
  },
  {
   "cell_type": "markdown",
   "metadata": {},
   "source": [
    "First we load nlp model from spacy."
   ]
  },
  {
   "cell_type": "code",
   "execution_count": 2,
   "metadata": {},
   "outputs": [],
   "source": [
    "nlp = spacy.load('de_core_news_lg')"
   ]
  },
  {
   "cell_type": "markdown",
   "metadata": {},
   "source": [
    "Then we create a pipe using factory method giving the path to the senti-dictionary called sentiWS."
   ]
  },
  {
   "cell_type": "code",
   "execution_count": 4,
   "metadata": {},
   "outputs": [],
   "source": [
    "@Language.factory(\"sentiws2\")\n",
    "def create_component(nlp: Language, name: str):\n",
    "    return spaCySentiWS(sentiws_path='SentiWS_v2.0/')"
   ]
  },
  {
   "cell_type": "markdown",
   "metadata": {},
   "source": [
    "After that, we add it to the nlp pipeline."
   ]
  },
  {
   "cell_type": "code",
   "execution_count": 5,
   "metadata": {
    "scrolled": true
   },
   "outputs": [
    {
     "data": {
      "text/plain": [
       "<spacy_sentiws.spaCySentiWS at 0x7f1533774ee0>"
      ]
     },
     "execution_count": 5,
     "metadata": {},
     "output_type": "execute_result"
    }
   ],
   "source": [
    "nlp.add_pipe('sentiws2')"
   ]
  },
  {
   "cell_type": "markdown",
   "metadata": {},
   "source": [
    "Finally, we calculate the sentiment score for a random sentence choosen from a random speech content. In this case sentiWS fails to provide anly score at all, this shows its ineffectiveness."
   ]
  },
  {
   "cell_type": "code",
   "execution_count": 6,
   "metadata": {},
   "outputs": [
    {
     "name": "stdout",
     "output_type": "stream",
     "text": [
      "Er, None, PRON\n",
      "wurde, None, AUX\n",
      "aus, None, ADP\n",
      "verschiedenen, None, ADJ\n",
      "Gründen, None, NOUN\n",
      "immer, None, ADV\n",
      "weiter, None, ADV\n",
      "nach, None, ADP\n",
      "hinten, None, ADV\n",
      "verschoben, None, VERB\n",
      "., None, PUNCT\n"
     ]
    }
   ],
   "source": [
    "doc = nlp('Er wurde aus verschiedenen Gründen immer weiter nach hinten verschoben.')\n",
    "for token in doc:\n",
    "    print('{}, {}, {}'.format(token.text, token._.sentiws, token.pos_))"
   ]
  }
 ],
 "metadata": {
  "kernelspec": {
   "display_name": "Python 3",
   "language": "python",
   "name": "python3"
  },
  "language_info": {
   "codemirror_mode": {
    "name": "ipython",
    "version": 3
   },
   "file_extension": ".py",
   "mimetype": "text/x-python",
   "name": "python",
   "nbconvert_exporter": "python",
   "pygments_lexer": "ipython3",
   "version": "3.8.5"
  }
 },
 "nbformat": 4,
 "nbformat_minor": 4
}
